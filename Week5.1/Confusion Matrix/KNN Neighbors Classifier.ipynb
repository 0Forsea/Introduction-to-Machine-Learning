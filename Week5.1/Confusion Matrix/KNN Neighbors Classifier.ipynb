{
 "cells": [
  {
   "cell_type": "code",
   "execution_count": 32,
   "metadata": {
    "execution": {
     "iopub.execute_input": "2022-03-07T13:06:03.852926Z",
     "iopub.status.busy": "2022-03-07T13:06:03.852591Z",
     "iopub.status.idle": "2022-03-07T13:06:03.893631Z",
     "shell.execute_reply": "2022-03-07T13:06:03.892644Z",
     "shell.execute_reply.started": "2022-03-07T13:06:03.852891Z"
    }
   },
   "outputs": [],
   "source": [
    "# KNN Algorithm\n",
    "import pandas as pd\n",
    "import matplotlib.pyplot as plt\n",
    "import numpy as np\n",
    "from sklearn.model_selection import train_test_split\n",
    "from sklearn.metrics import confusion_matrix\n",
    "from sklearn.neighbors import KNeighborsClassifier\n",
    "from sklearn.ensemble import  RandomForestClassifier\n",
    "# %%\n",
    "data = pd.read_csv(\"../input/dataset2/data.csv\")\n",
    "\n",
    "# %%\n",
    "data.drop([\"id\",\"Unnamed: 32\"],axis=1,inplace=True)\n",
    "data.tail()\n",
    "# malignant = M  kotu huylu tumor\n",
    "# benign = B     iyi huylu tumor"
   ]
  },
  {
   "cell_type": "code",
   "execution_count": 33,
   "metadata": {
    "execution": {
     "iopub.execute_input": "2022-03-07T13:06:03.895679Z",
     "iopub.status.busy": "2022-03-07T13:06:03.895451Z",
     "iopub.status.idle": "2022-03-07T13:06:04.145641Z",
     "shell.execute_reply": "2022-03-07T13:06:04.144927Z",
     "shell.execute_reply.started": "2022-03-07T13:06:03.895649Z"
    }
   },
   "outputs": [],
   "source": [
    "# %%\n",
    "M = data[data.diagnosis == \"M\"]\n",
    "B = data[data.diagnosis == \"B\"]\n",
    "# scatter plot\n",
    "plt.scatter(M.radius_mean,M.texture_mean,color=\"red\",label=\"kotu\",alpha= 0.3)\n",
    "plt.scatter(B.radius_mean,B.texture_mean,color=\"green\",label=\"iyi\",alpha= 0.3)\n",
    "plt.xlabel(\"radius_mean\")\n",
    "plt.ylabel(\"texture_mean\")\n",
    "plt.legend()\n",
    "plt.show()"
   ]
  },
  {
   "cell_type": "code",
   "execution_count": 34,
   "metadata": {
    "execution": {
     "iopub.execute_input": "2022-03-07T13:06:04.147533Z",
     "iopub.status.busy": "2022-03-07T13:06:04.146908Z",
     "iopub.status.idle": "2022-03-07T13:06:04.155256Z",
     "shell.execute_reply": "2022-03-07T13:06:04.154344Z",
     "shell.execute_reply.started": "2022-03-07T13:06:04.147486Z"
    }
   },
   "outputs": [],
   "source": [
    "# %%\n",
    "data.diagnosis = [1 if each == \"M\" else 0 for each in data.diagnosis]\n",
    "y = data.diagnosis.values\n",
    "x_data = data.drop([\"diagnosis\"],axis=1)"
   ]
  },
  {
   "cell_type": "code",
   "execution_count": 35,
   "metadata": {
    "execution": {
     "iopub.execute_input": "2022-03-07T13:06:04.156421Z",
     "iopub.status.busy": "2022-03-07T13:06:04.156214Z",
     "iopub.status.idle": "2022-03-07T13:06:04.170520Z",
     "shell.execute_reply": "2022-03-07T13:06:04.169691Z",
     "shell.execute_reply.started": "2022-03-07T13:06:04.156395Z"
    }
   },
   "outputs": [],
   "source": [
    "# %%\n",
    "# normalization \n",
    "x = (x_data - np.min(x_data))/(np.max(x_data)-np.min(x_data))"
   ]
  },
  {
   "cell_type": "code",
   "execution_count": 36,
   "metadata": {
    "execution": {
     "iopub.execute_input": "2022-03-07T13:06:04.173228Z",
     "iopub.status.busy": "2022-03-07T13:06:04.172879Z",
     "iopub.status.idle": "2022-03-07T13:06:04.182940Z",
     "shell.execute_reply": "2022-03-07T13:06:04.182137Z",
     "shell.execute_reply.started": "2022-03-07T13:06:04.173176Z"
    }
   },
   "outputs": [],
   "source": [
    "#%%\n",
    "# train test split\n",
    "from sklearn.model_selection import train_test_split\n",
    "x_train, x_test, y_train, y_test = train_test_split(x,y,test_size = 0.3,random_state=1)"
   ]
  },
  {
   "cell_type": "code",
   "execution_count": 37,
   "metadata": {
    "execution": {
     "iopub.execute_input": "2022-03-07T13:06:04.184622Z",
     "iopub.status.busy": "2022-03-07T13:06:04.184154Z",
     "iopub.status.idle": "2022-03-07T13:06:04.231847Z",
     "shell.execute_reply": "2022-03-07T13:06:04.230938Z",
     "shell.execute_reply.started": "2022-03-07T13:06:04.184587Z"
    }
   },
   "outputs": [],
   "source": [
    "# %%\n",
    "# knn model\n",
    "from sklearn.neighbors import KNeighborsClassifier\n",
    "knn = KNeighborsClassifier(n_neighbors = 3) # n_neighbors = k\n",
    "knn.fit(x_train,y_train)\n",
    "prediction = knn.predict(x_test)\n",
    "print(\" {} nn score: {} \".format(3,knn.score(x_test,y_test)))"
   ]
  },
  {
   "cell_type": "code",
   "execution_count": 45,
   "metadata": {
    "execution": {
     "iopub.execute_input": "2022-03-07T13:07:27.587040Z",
     "iopub.status.busy": "2022-03-07T13:07:27.586734Z",
     "iopub.status.idle": "2022-03-07T13:07:28.524566Z",
     "shell.execute_reply": "2022-03-07T13:07:28.523939Z",
     "shell.execute_reply.started": "2022-03-07T13:07:27.587009Z"
    }
   },
   "outputs": [],
   "source": [
    "# %%\n",
    "# find k value\n",
    "score_list = []\n",
    "for each in range(1,40):\n",
    "    knn2 = KNeighborsClassifier(n_neighbors = each)\n",
    "    knn2.fit(x_train,y_train)\n",
    "    score_list.append(knn2.score(x_test,y_test))\n",
    "    \n",
    "plt.plot(range(1,40),score_list)\n",
    "plt.xlabel(\"k values\")\n",
    "plt.ylabel(\"accuracy\")\n",
    "plt.show()"
   ]
  },
  {
   "cell_type": "code",
   "execution_count": 53,
   "metadata": {
    "execution": {
     "iopub.execute_input": "2022-03-07T13:18:54.861954Z",
     "iopub.status.busy": "2022-03-07T13:18:54.861637Z",
     "iopub.status.idle": "2022-03-07T13:18:55.844321Z",
     "shell.execute_reply": "2022-03-07T13:18:55.843321Z",
     "shell.execute_reply.started": "2022-03-07T13:18:54.861917Z"
    }
   },
   "outputs": [],
   "source": [
    "#######################################################################\n",
    "# %%\n",
    "# find k value\n",
    "#I add extra error section\n",
    "#We can see Error Table \n",
    "error = []\n",
    "for i in range(1,40):\n",
    "    knn = KNeighborsClassifier(n_neighbors = i)\n",
    "    knn.fit(x_train,y_train)\n",
    "    pred_i=knn.predict(x_test)\n",
    "    error.append(np.mean(pred_i!=y_test)) # This is the most important line \n",
    "\n",
    "plt.figure(figsize=(12,6))\n",
    "plt.plot(range(1,40),error,color='red',linestyle='dashed',marker='o',markerfacecolor='blue',markersize=10) \n",
    "#This line we are shape the line as we want.\n",
    "plt.title('Error Rate K Value')\n",
    "plt.xlabel(\"K values\")\n",
    "plt.ylabel(\"Mean Error\")\n",
    "plt.show()"
   ]
  },
  {
   "cell_type": "code",
   "execution_count": 39,
   "metadata": {
    "execution": {
     "iopub.execute_input": "2022-03-07T13:06:04.700235Z",
     "iopub.status.busy": "2022-03-07T13:06:04.700024Z",
     "iopub.status.idle": "2022-03-07T13:06:04.924588Z",
     "shell.execute_reply": "2022-03-07T13:06:04.923711Z",
     "shell.execute_reply.started": "2022-03-07T13:06:04.700208Z"
    }
   },
   "outputs": [],
   "source": [
    "y_pred = knn2.predict(x_test)\n",
    "y_true = y_test\n",
    "#%% confusion matrix\n",
    "from sklearn.metrics import confusion_matrix\n",
    "cm = confusion_matrix(y_true,y_pred)\n",
    "\n",
    "\n",
    "# %% cm visualization\n",
    "import seaborn as sns\n",
    "import matplotlib.pyplot as plt\n",
    "\n",
    "f, ax = plt.subplots(figsize =(5,5))\n",
    "sns.heatmap(cm,annot = True,linewidths=0.5,linecolor=\"red\",fmt = \".0f\",ax=ax)\n",
    "plt.xlabel(\"y_pred\")\n",
    "plt.ylabel(\"y_true\")\n",
    "plt.show()\n"
   ]
  }
 ],
 "metadata": {
  "kernelspec": {
   "display_name": "Python 3 (ipykernel)",
   "language": "python",
   "name": "python3"
  },
  "language_info": {
   "codemirror_mode": {
    "name": "ipython",
    "version": 3
   },
   "file_extension": ".py",
   "mimetype": "text/x-python",
   "name": "python",
   "nbconvert_exporter": "python",
   "pygments_lexer": "ipython3",
   "version": "3.9.7"
  }
 },
 "nbformat": 4,
 "nbformat_minor": 4
}
